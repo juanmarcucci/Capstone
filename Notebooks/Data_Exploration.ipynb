{
 "cells": [
  {
   "cell_type": "markdown",
   "id": "1277759f-580c-4c6e-837f-20f780a614f6",
   "metadata": {},
   "source": [
    "# Los Angeles AirBnb EDA"
   ]
  },
  {
   "cell_type": "markdown",
   "id": "7ec4a426-d033-4f9d-ba9e-06d259849339",
   "metadata": {},
   "source": [
    "Problem Statement = Develop the best possible predictor of airbnb rentals to provide users of the model with the most savings in their vacation rental. The model will continuosly learn from recent data to provide up to date data."
   ]
  },
  {
   "cell_type": "markdown",
   "id": "9519a0b7-35a4-4990-81f9-1afa3e5d7923",
   "metadata": {},
   "source": [
    "## Imports"
   ]
  },
  {
   "cell_type": "code",
   "execution_count": null,
   "id": "380912a1-4967-4c55-8b13-db5829a82d6a",
   "metadata": {},
   "outputs": [],
   "source": [
    "import pandas as pd\n",
    "import numpy as np\n",
    "import matplotlib.pyplot as plt\n",
    "import seaborn as sns\n",
    "\n",
    "import random\n",
    "random.seed(42)\n",
    "\n",
    "pd.options.mode.chained_assignment = None"
   ]
  },
  {
   "cell_type": "markdown",
   "id": "15b3fdea-be40-4025-bd6a-81092d1e66a5",
   "metadata": {},
   "source": [
    "Here I am reading in the data for the first quarter (06 June, 2022), in total there is a year's worth of listings but for an initial exploration I only need some of the data."
   ]
  },
  {
   "cell_type": "code",
   "execution_count": null,
   "id": "08223f9e-3df9-44cb-a401-b61a47c7f443",
   "metadata": {},
   "outputs": [],
   "source": [
    "#!unzip ../data/Archive.zip"
   ]
  },
  {
   "cell_type": "code",
   "execution_count": null,
   "id": "370a53db-9492-435f-a00d-ac5587ee769f",
   "metadata": {},
   "outputs": [],
   "source": [
    "airbnb = pd.read_csv('./listings_1.csv')"
   ]
  },
  {
   "cell_type": "code",
   "execution_count": null,
   "id": "a5c0a39f-3176-4b3e-ab89-a9000ea5908b",
   "metadata": {},
   "outputs": [],
   "source": [
    "airbnb.shape"
   ]
  },
  {
   "cell_type": "code",
   "execution_count": null,
   "id": "12727c9d-3ca6-4f9c-b843-3be05ef825f6",
   "metadata": {},
   "outputs": [],
   "source": [
    "airbnb.head()"
   ]
  },
  {
   "cell_type": "code",
   "execution_count": null,
   "id": "6ee6f096-e92f-4977-8e1a-60dd757d5440",
   "metadata": {},
   "outputs": [],
   "source": [
    "airbnb.info()"
   ]
  },
  {
   "cell_type": "markdown",
   "id": "a26f6716-f33f-4db0-bbea-fd2fcee20a0c",
   "metadata": {},
   "source": [
    "## Feature Selection"
   ]
  },
  {
   "cell_type": "markdown",
   "id": "4e301495-d1d4-41e2-af2d-5c859b1551e1",
   "metadata": {},
   "source": [
    "Price is the target variable so first I will examine the values in the column."
   ]
  },
  {
   "cell_type": "code",
   "execution_count": null,
   "id": "7fcbbf0b-ba59-4c1c-a2bb-679fb1775539",
   "metadata": {},
   "outputs": [],
   "source": [
    "# https://stackoverflow.com/questions/32464280/converting-currency-with-to-numbers-in-python-pandas\n",
    "airbnb['price']"
   ]
  },
  {
   "cell_type": "markdown",
   "id": "0e4129ce-b4e0-44e3-a9ec-9f243e0d2c45",
   "metadata": {},
   "source": [
    "The values are being read in as objects beacuse of the \"$\" symbol, so I will strip it to only number and change the type to float."
   ]
  },
  {
   "cell_type": "code",
   "execution_count": null,
   "id": "3fa4056e-122b-4ffd-bfe6-f796baf6610d",
   "metadata": {},
   "outputs": [],
   "source": [
    "airbnb['price'] = airbnb['price'].replace('[\\$,]','', regex=True).astype(float)"
   ]
  },
  {
   "cell_type": "markdown",
   "id": "88a1ebe5-fb0d-4d06-8bcb-ff0499d1df0c",
   "metadata": {},
   "source": [
    "Now that the target variable is a float I can use the correlation method and identify the numerical values most valuable to the model."
   ]
  },
  {
   "cell_type": "code",
   "execution_count": null,
   "id": "221ba871-ca67-4b1e-8ca1-48d2f3b7b9b9",
   "metadata": {},
   "outputs": [],
   "source": [
    "airbnb.corr()[['price']].sort_values(by = 'price', ascending = False)"
   ]
  },
  {
   "cell_type": "markdown",
   "id": "697954a8-17c3-462d-9e8c-8820619f1389",
   "metadata": {},
   "source": [
    "'bedrooms', 'accommodates', and 'beds' have the highest correlation with the 'price' variable so they will be selected for initial modeling. Correlation only takes into account numerical variables so later on categorical values will be examined and selected."
   ]
  },
  {
   "cell_type": "code",
   "execution_count": null,
   "id": "e7e3ee88-aba9-4f3b-b864-69ef44cffbdb",
   "metadata": {},
   "outputs": [],
   "source": [
    "features = ['bedrooms', 'accommodates', 'beds', 'price']\n",
    "\n",
    "airbnb1 = airbnb[features]\n",
    "\n",
    "airbnb1.info()"
   ]
  },
  {
   "cell_type": "markdown",
   "id": "c16bc42d-ce90-4e65-8e15-88e50771c15d",
   "metadata": {},
   "source": [
    "## Null Values"
   ]
  },
  {
   "cell_type": "markdown",
   "id": "214b2a51-d2bc-44fd-aa72-31ef20533071",
   "metadata": {},
   "source": [
    "Chosen variables appear to have a number of null values"
   ]
  },
  {
   "cell_type": "code",
   "execution_count": null,
   "id": "992d296c-bb2f-4934-86bf-96287fe0e481",
   "metadata": {},
   "outputs": [],
   "source": [
    "airbnb1.isnull().sum()"
   ]
  },
  {
   "cell_type": "code",
   "execution_count": null,
   "id": "ea11f8d0-8101-47ca-be4d-f6d6a6ac1857",
   "metadata": {},
   "outputs": [],
   "source": [
    "airbnb1.describe()"
   ]
  },
  {
   "cell_type": "code",
   "execution_count": null,
   "id": "b95e069f-e75a-4bbb-b261-5c79154702b4",
   "metadata": {},
   "outputs": [],
   "source": [
    "airbnb1['bedrooms'].value_counts()"
   ]
  },
  {
   "cell_type": "code",
   "execution_count": null,
   "id": "9824c931-903c-4759-8662-f0b9a1bd6eaa",
   "metadata": {},
   "outputs": [],
   "source": [
    "airbnb1['beds'].value_counts()"
   ]
  },
  {
   "cell_type": "markdown",
   "id": "1b29f9ac-0103-4321-ad82-fee19f2da29a",
   "metadata": {},
   "source": [
    "Upon further examination there does not appear to be any option of inputting 0 bedrooms (studio apartment) or 0 beds (alternate accomodations) so I will assume that is why the numbers appear as null and fill them accordingly."
   ]
  },
  {
   "cell_type": "code",
   "execution_count": null,
   "id": "746767fe-11a1-4a08-9f63-865c5926259f",
   "metadata": {},
   "outputs": [],
   "source": [
    "airbnb1 = airbnb1.fillna(0)"
   ]
  },
  {
   "cell_type": "code",
   "execution_count": null,
   "id": "090606a1-f85e-46f1-9583-7df615d2a52c",
   "metadata": {},
   "outputs": [],
   "source": [
    "airbnb1.isnull().sum()"
   ]
  },
  {
   "cell_type": "markdown",
   "id": "ac3e0e23-8953-407a-9121-ea81390af9fb",
   "metadata": {},
   "source": [
    "## EDA"
   ]
  },
  {
   "cell_type": "markdown",
   "id": "0f2431a8-80f2-4fda-ad09-3cbbf2b716ea",
   "metadata": {},
   "source": [
    "I will perform some data visualization to get a sense of what the variables look like"
   ]
  },
  {
   "cell_type": "code",
   "execution_count": null,
   "id": "d6f4b7a4-dc20-45bf-b316-6c6b3ddfc405",
   "metadata": {},
   "outputs": [],
   "source": [
    "sns.boxplot(x = airbnb1['bedrooms']);"
   ]
  },
  {
   "cell_type": "code",
   "execution_count": null,
   "id": "f71bacda-705d-4735-a2de-d311f153dc4b",
   "metadata": {},
   "outputs": [],
   "source": [
    "sns.boxplot(x = airbnb1['accommodates']);"
   ]
  },
  {
   "cell_type": "code",
   "execution_count": null,
   "id": "11a1cf91-ecfa-40b8-a613-e1f7693df434",
   "metadata": {},
   "outputs": [],
   "source": [
    "sns.boxplot(x = airbnb1['beds']);"
   ]
  },
  {
   "cell_type": "code",
   "execution_count": null,
   "id": "d7200419-7aab-4cd4-b532-72c5a4caa69c",
   "metadata": {},
   "outputs": [],
   "source": [
    "sns.pairplot(airbnb1, y_vars = ['price'], x_vars = ['bedrooms', 'accommodates', 'beds']);"
   ]
  },
  {
   "cell_type": "markdown",
   "id": "7dbb4691-9f4f-47ac-92aa-c78347ca0a77",
   "metadata": {},
   "source": [
    "There seem to be some some outliers, need further examination"
   ]
  },
  {
   "cell_type": "code",
   "execution_count": null,
   "id": "8a67dbdf-a97c-4eb5-b959-925f958a7f12",
   "metadata": {},
   "outputs": [],
   "source": [
    "airbnb1.sort_values(by = ['price'], ascending=False).head(15)"
   ]
  },
  {
   "cell_type": "markdown",
   "id": "0702462f-4d1a-4cd3-b5c1-ec24fb9326db",
   "metadata": {},
   "source": [
    "10 of the 40,438 listings are super luxurious and I need to eliminate them to get a better visualization of the data. Seeing as how they are outliers and so rare I don't forsee a significant impact on the model accuracy."
   ]
  },
  {
   "cell_type": "code",
   "execution_count": null,
   "id": "2e24b455-7edb-4367-b9ad-91d648712c21",
   "metadata": {},
   "outputs": [],
   "source": [
    "airbnb1 = airbnb1[airbnb1['price'] < 25000.0]"
   ]
  },
  {
   "cell_type": "code",
   "execution_count": null,
   "id": "00fa9064-e7da-41be-9a17-3f1dbf8375b1",
   "metadata": {},
   "outputs": [],
   "source": [
    "sns.pairplot(airbnb1, y_vars = ['price'], x_vars = ['bedrooms', 'accommodates', 'beds']);"
   ]
  },
  {
   "cell_type": "markdown",
   "id": "46bb0c11-ead0-458b-9bc7-a203994ad650",
   "metadata": {},
   "source": [
    "3 more outliers stand out, specifically 20+ bedrooms and 30+ beds, given their rarity I am willing to sacrifice their inclusion in the model data to improve the inference and prediction for the other 99% of the listings"
   ]
  },
  {
   "cell_type": "code",
   "execution_count": null,
   "id": "5f3c26ff-222f-4637-8bb0-68c4b6953b1d",
   "metadata": {},
   "outputs": [],
   "source": [
    "airbnb1 = airbnb1[(airbnb1['bedrooms'] < 20) & (airbnb1['beds'] < 30)]"
   ]
  },
  {
   "cell_type": "code",
   "execution_count": null,
   "id": "a17fd6c9-3d6f-4c7c-bd47-37d1c6dda057",
   "metadata": {},
   "outputs": [],
   "source": [
    "sns.pairplot(airbnb1, y_vars = ['price'], x_vars = ['bedrooms', 'accommodates', 'beds']);"
   ]
  },
  {
   "cell_type": "markdown",
   "id": "3363bb54-cb22-490b-934f-8938b5d8cf30",
   "metadata": {},
   "source": [
    "Clean data shows more clear patterns and adds confidence to a linear relationship being present. Now I will re-check the correlation given the changes to the data"
   ]
  },
  {
   "cell_type": "code",
   "execution_count": null,
   "id": "3cf698d1-146f-4e5d-b33d-b3111bfb4e4c",
   "metadata": {},
   "outputs": [],
   "source": [
    "airbnb1.corr()[['price']].sort_values(by = 'price', ascending = False)"
   ]
  },
  {
   "cell_type": "markdown",
   "id": "a8c691a6-8ffc-4a0b-a97c-4ab65fed269b",
   "metadata": {},
   "source": [
    "It seems the changes to the data have significantly improved the correlation of the chosen variables to the target variable, 'price'"
   ]
  },
  {
   "cell_type": "markdown",
   "id": "a3c12846-8ff6-4d32-9acb-55e80e03e20f",
   "metadata": {},
   "source": [
    "___"
   ]
  },
  {
   "cell_type": "markdown",
   "id": "ec92e80a-1d27-4e45-8368-038f39e2f161",
   "metadata": {},
   "source": [
    "# Initial Modeling"
   ]
  },
  {
   "cell_type": "code",
   "execution_count": null,
   "id": "f836ef33-86d8-49f0-b86c-4613dd5ea4f9",
   "metadata": {},
   "outputs": [],
   "source": [
    "from sklearn.linear_model import LinearRegression\n",
    "from sklearn.model_selection import train_test_split, cross_val_score\n",
    "from sklearn.metrics import r2_score"
   ]
  },
  {
   "cell_type": "code",
   "execution_count": null,
   "id": "abded6d5-cdaa-41df-b24c-9292e52998c2",
   "metadata": {},
   "outputs": [],
   "source": [
    "X = airbnb1[['bedrooms', 'accommodates', 'beds']]\n",
    "y = airbnb1['price']"
   ]
  },
  {
   "cell_type": "code",
   "execution_count": null,
   "id": "ecf0db18-e409-4acc-a24e-cfb2977b267d",
   "metadata": {},
   "outputs": [],
   "source": [
    "X_train, X_test, y_train, y_test = train_test_split(X, y, random_state = 42)"
   ]
  },
  {
   "cell_type": "markdown",
   "id": "49e03f14-d040-4da7-b7c3-f20ca0c9a17f",
   "metadata": {},
   "source": [
    "### Null Model"
   ]
  },
  {
   "cell_type": "code",
   "execution_count": null,
   "id": "659f9a4d-8d75-4c35-86b0-a6dddefb19e2",
   "metadata": {},
   "outputs": [],
   "source": [
    "airbnb1['price'].mean()"
   ]
  },
  {
   "cell_type": "markdown",
   "id": "fb84ff91-e306-48e4-a05d-131fe5c00acf",
   "metadata": {},
   "source": [
    "Null Model in this case indicates price of a listing should be average price of all listings, which is $267.18"
   ]
  },
  {
   "cell_type": "code",
   "execution_count": null,
   "id": "1c07c36d-f519-4bf3-8d7c-f3ccc3cd3fdf",
   "metadata": {},
   "outputs": [],
   "source": [
    "# breakfast hour week 4 Transformers Lesson\n",
    "null = np.full_like(y_test, y_train.mean())\n",
    "\n",
    "null"
   ]
  },
  {
   "cell_type": "code",
   "execution_count": null,
   "id": "500320e6-bc7e-4bec-8209-7fa951aa3c32",
   "metadata": {},
   "outputs": [],
   "source": [
    "r2_score(y_test, null)"
   ]
  },
  {
   "cell_type": "markdown",
   "id": "300836c5-c692-4c59-a37c-f57252e171c6",
   "metadata": {},
   "source": [
    "Very poor r2 score for the null model which makes sense given the spread of the data."
   ]
  },
  {
   "cell_type": "markdown",
   "id": "18b70099-6ca4-48c9-ac2b-1e910bfe6dcd",
   "metadata": {},
   "source": [
    "### Linear Model"
   ]
  },
  {
   "cell_type": "code",
   "execution_count": null,
   "id": "20d33438-647d-49d7-8467-00cc0ee2bb33",
   "metadata": {},
   "outputs": [],
   "source": [
    "lr = LinearRegression()\n",
    "\n",
    "lr.fit(X_train, y_train)"
   ]
  },
  {
   "cell_type": "code",
   "execution_count": null,
   "id": "b68bf9d6-42b4-4b5f-a253-b12e259429cd",
   "metadata": {},
   "outputs": [],
   "source": [
    "print(f'Train Score: {lr.score(X_train, y_train)}')\n",
    "print(f'Test Score: {lr.score(X_test, y_test)}')\n",
    "print(f'Cross Val Score: {cross_val_score(lr, X_train, y_train).mean()}')"
   ]
  },
  {
   "cell_type": "markdown",
   "id": "23b7d86d-a0c0-45b4-9857-e4d7d896392c",
   "metadata": {},
   "source": [
    "Results look promising, similiar train and test score show the model is not overfit and a similar test and val score show we have a representative test set. Next I will add more features to see if the R2 can be significantly increased."
   ]
  },
  {
   "cell_type": "markdown",
   "id": "57063771-2b5e-49b2-bf68-536b18808d70",
   "metadata": {},
   "source": [
    "# Categorical Features"
   ]
  },
  {
   "cell_type": "markdown",
   "id": "45f890be-f7e5-4f8f-9fc8-eb2171112246",
   "metadata": {},
   "source": [
    "A lot of variables were left on the table for the initial analysis, most importantly categorical features and features that are numerical but need further cleaning to maximize value."
   ]
  },
  {
   "cell_type": "markdown",
   "id": "6269fe48-28f1-4535-8d5c-49feca00c94a",
   "metadata": {},
   "source": [
    "- Location based features, latitude and longitude had little correlation by themselves but how about a polynomial feature of the two combined?"
   ]
  },
  {
   "cell_type": "code",
   "execution_count": null,
   "id": "dd292700-3fa3-42ff-8e97-7ad1471f62df",
   "metadata": {},
   "outputs": [],
   "source": [
    "# Removing outliers and Filling Nulls\n",
    "airbnb_clean = airbnb[(airbnb['price'] < 25000.0) & (airbnb1['bedrooms'] < 20) & (airbnb1['beds'] < 30)]\n",
    "airbnb_clean = airbnb_clean.fillna(0)\n",
    "\n",
    "# Polynomial Features\n",
    "airbnb_exp = airbnb_clean[['price', 'latitude', 'longitude']]"
   ]
  },
  {
   "cell_type": "code",
   "execution_count": null,
   "id": "954f391e-0e1a-4a72-80e0-39ed84aa58de",
   "metadata": {},
   "outputs": [],
   "source": [
    "airbnb_exp['location'] = airbnb_exp['latitude'] * airbnb_exp['longitude']"
   ]
  },
  {
   "cell_type": "code",
   "execution_count": null,
   "id": "e2782dd4-5fd5-4df3-b567-575dd9e3db9c",
   "metadata": {},
   "outputs": [],
   "source": [
    "airbnb_exp['location'].isnull().sum()"
   ]
  },
  {
   "cell_type": "code",
   "execution_count": null,
   "id": "45af42b4-c523-4fc7-bd6a-d55239b3f226",
   "metadata": {},
   "outputs": [],
   "source": [
    "airbnb_exp.corr()[['price']].sort_values(by = 'price', ascending = False)"
   ]
  },
  {
   "cell_type": "markdown",
   "id": "a8800457-1dea-4f76-976a-7b546580698f",
   "metadata": {},
   "source": [
    "Correlation proved too small to provide significant value, not too surprising given that AirBnb randomizes and occludes the exact location of a listing to provide more security to the host."
   ]
  },
  {
   "cell_type": "code",
   "execution_count": null,
   "id": "1bc06cc9-6dac-40de-99a3-28d577d15f8e",
   "metadata": {},
   "outputs": [],
   "source": [
    "plt.figure(figsize = (10, 10))\n",
    "plt.scatter(airbnb_exp['location'], airbnb_exp['price'])\n",
    "plt.xlabel('Location = lat * lon')\n",
    "plt.ylabel('Price')\n",
    "plt.title('Location and Price');"
   ]
  },
  {
   "cell_type": "code",
   "execution_count": null,
   "id": "d9c22ad1-e4b3-4d66-bb6d-7412f3018ef1",
   "metadata": {},
   "outputs": [],
   "source": [
    "plt.scatter(airbnb_exp['longitude'], airbnb_exp['latitude'])\n",
    "plt.xlabel('Longitude')\n",
    "plt.ylabel('Latitude')\n",
    "plt.title('Map of LA listings');"
   ]
  },
  {
   "cell_type": "markdown",
   "id": "9caad7a7-94cb-4936-a0a6-48cde0c7ad29",
   "metadata": {},
   "source": [
    "### Neighbouhoods"
   ]
  },
  {
   "cell_type": "markdown",
   "id": "12642876-680c-430e-bce8-1f080db35557",
   "metadata": {},
   "source": [
    "Inside Airbnb calculcated the neighbourhood using coordinates and a map of LA so I will explore that data next"
   ]
  },
  {
   "cell_type": "code",
   "execution_count": null,
   "id": "f8697ea5-a3a1-4b58-84eb-70a11d74f43b",
   "metadata": {},
   "outputs": [],
   "source": [
    "airbnb_exp = airbnb_clean[['price', 'neighbourhood_cleansed']]"
   ]
  },
  {
   "cell_type": "code",
   "execution_count": null,
   "id": "2cc1b923-200b-415c-ad9f-e2fab6f51436",
   "metadata": {},
   "outputs": [],
   "source": [
    "airbnb_exp['neighbourhood_cleansed'].describe()"
   ]
  },
  {
   "cell_type": "code",
   "execution_count": null,
   "id": "babcb200-d1ca-4c8a-8738-1f7f974664c9",
   "metadata": {},
   "outputs": [],
   "source": [
    "airbnb_exp.isnull().sum()"
   ]
  },
  {
   "cell_type": "code",
   "execution_count": null,
   "id": "3aa4f2d9-fae3-4964-a3e1-b60bb8333529",
   "metadata": {},
   "outputs": [],
   "source": [
    "top_50 = airbnb_exp['neighbourhood_cleansed'].value_counts().head(50)"
   ]
  },
  {
   "cell_type": "code",
   "execution_count": null,
   "id": "1a007095-c698-407e-9de7-b4e8576204b5",
   "metadata": {},
   "outputs": [],
   "source": [
    "plt.figure(figsize = (10, 10))\n",
    "top_50.sort_values().plot(kind='barh')\n",
    "plt.xlabel('Listings')\n",
    "plt.ylabel('Neighbourhoods')\n",
    "plt.title('Top 50 most popular neighbourhoods for LA listings');"
   ]
  },
  {
   "cell_type": "code",
   "execution_count": null,
   "id": "ab4577a0-a027-4123-8613-8dce1f1ce432",
   "metadata": {},
   "outputs": [],
   "source": [
    "bottom_50 = airbnb_exp['neighbourhood_cleansed'].value_counts().tail(50)\n",
    "plt.figure(figsize = (10, 10))\n",
    "bottom_50.sort_values().plot(kind='barh')\n",
    "plt.xlabel('Listings')\n",
    "plt.ylabel('Neighbourhoods')\n",
    "plt.title('Bottom 50 most popular neighbourhoods for LA listings');"
   ]
  },
  {
   "cell_type": "code",
   "execution_count": null,
   "id": "2a0804b8-0b70-4012-91f4-ccdd2c586daa",
   "metadata": {},
   "outputs": [],
   "source": [
    "# One Hot Encode to graph neighbourhoods\n",
    "from sklearn.preprocessing import OneHotEncoder"
   ]
  },
  {
   "cell_type": "code",
   "execution_count": null,
   "id": "76e89a6c-c89d-4dd9-ab2f-e11e590d16d2",
   "metadata": {},
   "outputs": [],
   "source": [
    "# Transformers Lesson\n",
    "ohe = OneHotEncoder(drop='if_binary', handle_unknown='ignore', sparse=False)"
   ]
  },
  {
   "cell_type": "code",
   "execution_count": null,
   "id": "17f69b01-095a-438e-b56f-d30d9ef1926a",
   "metadata": {},
   "outputs": [],
   "source": [
    "# One Hot Encode to graph neighbourhoods\n",
    "features = ['bedrooms', 'accommodates', 'beds', 'neighbourhood_cleansed']\n",
    "\n",
    "X = airbnb_clean[features]\n",
    "y = airbnb_clean['price']"
   ]
  },
  {
   "cell_type": "code",
   "execution_count": null,
   "id": "fb98fbda-530f-4ac5-90f7-300db0b1d1a5",
   "metadata": {},
   "outputs": [],
   "source": [
    "X_train, X_test, y_train, y_test = train_test_split(X, y, random_state = 42)"
   ]
  },
  {
   "cell_type": "code",
   "execution_count": null,
   "id": "55670afd-b8cc-471e-b5b3-edf4b58f4278",
   "metadata": {},
   "outputs": [],
   "source": [
    "X_train_ohe = ohe.fit_transform(X_train[['neighbourhood_cleansed']])\n",
    "X_test_ohe = ohe.transform(X_test[['neighbourhood_cleansed']])"
   ]
  },
  {
   "cell_type": "code",
   "execution_count": null,
   "id": "2cf504bb-a79e-4331-b0e6-2bb22d257e5c",
   "metadata": {},
   "outputs": [],
   "source": [
    "X_train_ohe.shape, X_test_ohe.shape"
   ]
  },
  {
   "cell_type": "code",
   "execution_count": null,
   "id": "f5ecf597-b46f-4b1b-8a40-df095f232b9e",
   "metadata": {},
   "outputs": [],
   "source": [
    "lr_neighbourhood = LinearRegression()\n",
    "\n",
    "lr_neighbourhood.fit(X_train_ohe, y_train)"
   ]
  },
  {
   "cell_type": "code",
   "execution_count": null,
   "id": "6c044437-3479-472d-8851-5273ad8a152a",
   "metadata": {},
   "outputs": [],
   "source": [
    "print(f'Train Score: {lr_neighbourhood.score(X_train_ohe, y_train)}')\n",
    "print(f'Test Score: {lr_neighbourhood.score(X_test_ohe, y_test)}')"
   ]
  },
  {
   "cell_type": "markdown",
   "id": "a59a659b-1e08-4c5a-ac7a-f4f7781fd445",
   "metadata": {},
   "source": [
    "Not only does the addition of neighbourhoods decrease the train r2 score significantly, it turns the test r2 score negative. I cannot recomment keeping the new one hot encoded variables."
   ]
  },
  {
   "cell_type": "markdown",
   "id": "b14fbd86-8d6a-4cb2-9aaf-2406366abf51",
   "metadata": {},
   "source": [
    "### Host_since has the data of creation of host account"
   ]
  },
  {
   "cell_type": "markdown",
   "id": "0e12c004-be4c-4e5c-b910-6fd10ea4eab6",
   "metadata": {},
   "source": [
    "Change host_since date to datetime in order to graph it"
   ]
  },
  {
   "cell_type": "code",
   "execution_count": null,
   "id": "34eeca5f-564e-4075-b908-aaa5bdb5df0a",
   "metadata": {},
   "outputs": [],
   "source": [
    "airbnb_exp['host_since'] = pd.to_datetime(airbnb_clean['host_since'])"
   ]
  },
  {
   "cell_type": "code",
   "execution_count": null,
   "id": "0850f53f-3728-4859-82d3-6fefb10e4681",
   "metadata": {},
   "outputs": [],
   "source": [
    "airbnb_exp['host_since'].isnull().sum()"
   ]
  },
  {
   "cell_type": "code",
   "execution_count": null,
   "id": "3e242a34-b04d-4806-93b3-e06dfa735e91",
   "metadata": {},
   "outputs": [],
   "source": [
    "# noticed some outlier dates, filterting them out, Airbnb was founded in 2008 so any date before that is a clearical error\n",
    "airbnb_exp = airbnb_exp[airbnb_exp['host_since'] >= \"2008\"]"
   ]
  },
  {
   "cell_type": "code",
   "execution_count": null,
   "id": "f8c9974c-e4b8-4fc2-8cdb-150de60aad27",
   "metadata": {},
   "outputs": [],
   "source": [
    "# https://stackoverflow.com/questions/16180946/drawing-average-line-in-histogram-matplotlib\n",
    "plt.hist(airbnb_exp['host_since'], edgecolor = 'k', bins = 40)\n",
    "plt.axvline(airbnb_exp['host_since'].mean(), color = 'red')\n",
    "plt.xlabel('Date')\n",
    "plt.ylabel('Number of Accounts')\n",
    "plt.title('Date of Host Account Creation');"
   ]
  },
  {
   "cell_type": "markdown",
   "id": "29c9a0ae-40a0-4258-8a4f-467606d2e0c0",
   "metadata": {},
   "source": [
    "Linear models do not accept dates, therefore I will combine host_since and last_review to create a new column I will title \"Host Experience\""
   ]
  },
  {
   "cell_type": "code",
   "execution_count": null,
   "id": "71e55c67-51e3-4c29-a8cd-c760f69ac421",
   "metadata": {},
   "outputs": [],
   "source": [
    "airbnb_clean['last_review'].value_counts()"
   ]
  },
  {
   "cell_type": "markdown",
   "id": "bc7990e6-2375-4d2d-bab8-0c36386d2bbb",
   "metadata": {},
   "source": [
    "It seems too many of the accounts have never been reviewed. Not worth pursuing this avenue if I have to sacrifice almost 1/4 of the data. I don't see another way of converting this datetime data into length of account given the present data"
   ]
  },
  {
   "cell_type": "markdown",
   "id": "0fd51849-5deb-4baa-8552-47def01b0c0d",
   "metadata": {},
   "source": [
    "### Host Location"
   ]
  },
  {
   "cell_type": "markdown",
   "id": "b3edd67c-9bbe-4250-b17e-31d2563a5d27",
   "metadata": {},
   "source": [
    "Looking at the host locations to see if it's worth keeping as a variable"
   ]
  },
  {
   "cell_type": "code",
   "execution_count": null,
   "id": "e1625ec4-9a92-434c-84f4-404d5eed9e9f",
   "metadata": {},
   "outputs": [],
   "source": [
    "airbnb['host_location'].value_counts().head(20)"
   ]
  },
  {
   "cell_type": "code",
   "execution_count": null,
   "id": "bf7614fe-4f69-4fbf-83e3-3a4eb19a4504",
   "metadata": {},
   "outputs": [],
   "source": [
    "airbnb['host_location'].describe()"
   ]
  },
  {
   "cell_type": "markdown",
   "id": "0426d6bd-bc23-41ea-bc71-c989f2e3b760",
   "metadata": {},
   "source": [
    "Too many possibilities to one-hot encode or dumify this variable, using neighbourhoods.csv I can binarize the column to \"In LA or not\""
   ]
  },
  {
   "cell_type": "code",
   "execution_count": null,
   "id": "64b114bd-9f86-4cb9-9d22-ea2d678ab271",
   "metadata": {},
   "outputs": [],
   "source": [
    "neighbourhoods_df = pd.read_csv('../data/neighbourhoods.csv')\n",
    "\n",
    "neighbourhoods = neighbourhoods_df['neighbourhood'].tolist()"
   ]
  },
  {
   "cell_type": "code",
   "execution_count": null,
   "id": "edb9dc13-3cde-415a-9335-71589b63f439",
   "metadata": {},
   "outputs": [],
   "source": [
    "airbnb['host_location'].head()"
   ]
  },
  {
   "cell_type": "code",
   "execution_count": null,
   "id": "82446e67-6c04-49f7-83cb-1deb87a79464",
   "metadata": {},
   "outputs": [],
   "source": [
    "# Need to take off the comma and everything after it so it matches the list of neighbourhoods\n",
    "# https://stackoverflow.com/questions/47024428/replace-column-values-using-regex-in-pandas-data-frame\n",
    "\n",
    "airbnb_clean['local_host'] = airbnb_clean['host_location'].str.split(',').str[0]\n",
    "\n",
    "airbnb_clean['local_host'].head()"
   ]
  },
  {
   "cell_type": "code",
   "execution_count": null,
   "id": "f3502582-b1a4-456a-8cd4-14b9735a3838",
   "metadata": {},
   "outputs": [],
   "source": [
    "# Binarizing the column\n",
    "airbnb_clean['local_host_b'] = airbnb_clean['local_host'].map(lambda location: 1 if location in neighbourhoods else 0)\n",
    "\n",
    "airbnb_clean['local_host_b'].value_counts()"
   ]
  },
  {
   "cell_type": "markdown",
   "id": "4dea45a0-30ff-4c0b-82e3-b58fbb8daa80",
   "metadata": {},
   "source": [
    "To decided whether the variable is worth keeping I want to see if there is a noticeable difference in price between both conditions."
   ]
  },
  {
   "cell_type": "code",
   "execution_count": null,
   "id": "db2c628a-3f35-474a-9ab8-e24e7fe1c5af",
   "metadata": {},
   "outputs": [],
   "source": [
    "airbnb_clean.groupby('local_host_b')['price'].describe()"
   ]
  },
  {
   "cell_type": "markdown",
   "id": "2d0c0855-f8a6-4d8c-8126-e7d9ef07ed74",
   "metadata": {},
   "source": [
    "There is enough of a difference so I will keep the new column"
   ]
  },
  {
   "cell_type": "markdown",
   "id": "3a38eec9-a9bf-4060-93c4-939c02e51601",
   "metadata": {},
   "source": [
    "#### Testing out new model"
   ]
  },
  {
   "cell_type": "code",
   "execution_count": null,
   "id": "ba692b47-3c83-4a88-be9e-d5f202e22f8e",
   "metadata": {},
   "outputs": [],
   "source": [
    "features = ['bedrooms', 'accommodates', 'beds', 'local_host_b']\n",
    "\n",
    "X = airbnb_clean[features]\n",
    "y = airbnb_clean['price']\n",
    "\n",
    "X_train, X_test, y_train, y_test = train_test_split(X, y, random_state = 42)\n",
    "\n",
    "lr_lhost = LinearRegression()\n",
    "lr_lhost.fit(X_train, y_train)\n",
    "\n",
    "print(f'Train Score: {lr_lhost.score(X_train, y_train)}')\n",
    "print(f'Test Score: {lr_lhost.score(X_test, y_test)}')"
   ]
  },
  {
   "cell_type": "markdown",
   "id": "15f14a0b-307d-44a9-82ba-2acafd3a1cce",
   "metadata": {},
   "source": [
    "No noticeable increase in either r2 score. Not worth keeping in the model."
   ]
  },
  {
   "cell_type": "markdown",
   "id": "133b2cd9-6a72-4a5b-9393-c346af6c34c7",
   "metadata": {},
   "source": [
    "### Bathrooms Text"
   ]
  },
  {
   "cell_type": "markdown",
   "id": "e23101cd-e5fd-4680-ad2f-8ce04359d85b",
   "metadata": {},
   "source": [
    "Because of a change in the Airbnb website the number of bathrooms are no longer stored as floats, they are strings describing the number of bathrooms. I will explore this data to see if it's worth adding to the model."
   ]
  },
  {
   "cell_type": "code",
   "execution_count": null,
   "id": "7fd87971-0f34-434c-b6b4-01ee5b0171eb",
   "metadata": {},
   "outputs": [],
   "source": [
    "airbnb['bathrooms_text'].value_counts()"
   ]
  },
  {
   "cell_type": "code",
   "execution_count": null,
   "id": "7a29d630-cc24-414e-8406-1afaa2bfdaf7",
   "metadata": {},
   "outputs": [],
   "source": [
    "airbnb['bathrooms_text'].describe()"
   ]
  },
  {
   "cell_type": "code",
   "execution_count": null,
   "id": "ee6c04c6-69aa-450d-8751-19bd900384ef",
   "metadata": {},
   "outputs": [],
   "source": [
    "airbnb['bathrooms_text'].isnull().sum()"
   ]
  },
  {
   "cell_type": "markdown",
   "id": "202ba2a2-e324-43c8-81a7-6ff2dd47612c",
   "metadata": {},
   "source": [
    "The data appears to be made up primarly of two components, the number of bathrooms and whether or not they are private. First I will extract the number of bathrooms. "
   ]
  },
  {
   "cell_type": "code",
   "execution_count": null,
   "id": "228c0937-511a-4dd3-8d67-34436ad962f0",
   "metadata": {},
   "outputs": [],
   "source": [
    "airbnb_bath = airbnb[['price', 'bathrooms_text']]\n",
    "\n",
    "airbnb_bath = airbnb_bath.fillna(0)"
   ]
  },
  {
   "cell_type": "code",
   "execution_count": null,
   "id": "74462a8a-3671-4061-b604-028e14ebaa83",
   "metadata": {},
   "outputs": [],
   "source": [
    "airbnb_bath.isnull().sum()"
   ]
  },
  {
   "cell_type": "code",
   "execution_count": null,
   "id": "37fd9e54-b49e-433e-927c-340b7a58058a",
   "metadata": {},
   "outputs": [],
   "source": [
    "# https://www.regular-expressions.info/floatingpoint.html\n",
    "airbnb_bath['bathrooms'] = airbnb_bath['bathrooms_text'].str.extract(r'(\\d+\\.?\\d?)').astype(float)\n",
    "\n",
    "airbnb_bath['bathrooms'].value_counts()"
   ]
  },
  {
   "cell_type": "code",
   "execution_count": null,
   "id": "08c24437-ac15-457a-b7a0-4d17c860bb84",
   "metadata": {},
   "outputs": [],
   "source": [
    "airbnb_bath.corr()[['price']].sort_values(by = 'price', ascending = False)"
   ]
  },
  {
   "cell_type": "markdown",
   "id": "0232066d-f9fb-4bf2-a9ce-e51e9a74cdde",
   "metadata": {},
   "source": [
    "Promising correaltion number between number of bathrooms and price, I will perform some further cleaning before testing out the variable in a new model."
   ]
  },
  {
   "cell_type": "code",
   "execution_count": null,
   "id": "1865e164-44d3-4e85-aae4-581e2b9e2ec6",
   "metadata": {},
   "outputs": [],
   "source": [
    "plt.figure(figsize = (10, 10))\n",
    "plt.scatter(airbnb_bath['bathrooms'], airbnb_bath['price'])\n",
    "plt.xlabel('Number of Bathrooms')\n",
    "plt.ylabel('Price')\n",
    "plt.title('Number of Bathrooms vs Price');"
   ]
  },
  {
   "cell_type": "markdown",
   "id": "a8a7d514-575d-4fb2-857f-cbcd3a9aa267",
   "metadata": {},
   "source": [
    "There seem to be a few outliers that can be elimiated from the data."
   ]
  },
  {
   "cell_type": "code",
   "execution_count": null,
   "id": "f6fa5f76-92a5-4ccf-84fa-d826df0250a1",
   "metadata": {},
   "outputs": [],
   "source": [
    "airbnb_bath = airbnb_bath[(airbnb_bath['bathrooms'] < 15) & (airbnb_bath['price'] < 25000)]"
   ]
  },
  {
   "cell_type": "code",
   "execution_count": null,
   "id": "6eb5ab60-6495-4948-8d67-8ebb7c51084a",
   "metadata": {},
   "outputs": [],
   "source": [
    "plt.figure(figsize = (10, 10))\n",
    "plt.scatter(airbnb_bath['bathrooms'], airbnb_bath['price'])\n",
    "plt.xlabel('Number of Bathrooms')\n",
    "plt.ylabel('Price')\n",
    "plt.title('Number of Bathrooms vs Price');"
   ]
  },
  {
   "cell_type": "code",
   "execution_count": null,
   "id": "453ce8bf-bd2e-4bd4-9688-d9fb9cba0353",
   "metadata": {},
   "outputs": [],
   "source": [
    "airbnb_bath.corr()[['price']].sort_values(by = 'price', ascending = False)"
   ]
  },
  {
   "cell_type": "markdown",
   "id": "0ad22a2f-f7be-4531-85e5-b3160d781167",
   "metadata": {},
   "source": [
    "With some data cleaning and elimination of ouliers the new \"bathrooms\" variable is a great candidate for the model."
   ]
  },
  {
   "cell_type": "markdown",
   "id": "ab7bba2e-3e4b-4954-a987-d28d660bbf51",
   "metadata": {},
   "source": [
    "### Room Type"
   ]
  },
  {
   "cell_type": "markdown",
   "id": "ee133259-b591-4dd8-8db6-9177dbeb8a3b",
   "metadata": {},
   "source": [
    "Last promising variable is room type, which should offer insight into the types of listings offered and will hopefully show a linear relationship"
   ]
  },
  {
   "cell_type": "code",
   "execution_count": null,
   "id": "ba31a971-5d19-4c70-ae36-04cba8cc4c30",
   "metadata": {},
   "outputs": [],
   "source": [
    "airbnb['room_type'].value_counts()"
   ]
  },
  {
   "cell_type": "code",
   "execution_count": null,
   "id": "01e46965-9a64-47b0-9268-1a83eaf4933a",
   "metadata": {},
   "outputs": [],
   "source": [
    "airbnb['room_type'].isnull().sum()"
   ]
  },
  {
   "cell_type": "code",
   "execution_count": null,
   "id": "581576e9-95bd-458a-9e89-7b30efc5b93c",
   "metadata": {},
   "outputs": [],
   "source": [
    "plt.figure(figsize = (10, 10))\n",
    "plt.scatter(airbnb['room_type'], airbnb['price'])\n",
    "plt.xlabel('Number of Bathrooms')\n",
    "plt.ylabel('Price')\n",
    "plt.title('Number of Bathrooms vs Price');"
   ]
  },
  {
   "cell_type": "code",
   "execution_count": null,
   "id": "efd83310-7906-407b-986e-5fdeea004dcd",
   "metadata": {},
   "outputs": [],
   "source": [
    "airbnb_room = airbnb[airbnb['price'] < 25000]"
   ]
  },
  {
   "cell_type": "code",
   "execution_count": null,
   "id": "7d825468-bc5b-4938-b93f-d795447e989e",
   "metadata": {},
   "outputs": [],
   "source": [
    "plt.figure(figsize = (10, 10))\n",
    "plt.scatter(airbnb_room['room_type'], airbnb_room['price'])\n",
    "plt.xlabel('Type of Room')\n",
    "plt.ylabel('Price')\n",
    "plt.title('Type of Room vs Price');"
   ]
  },
  {
   "cell_type": "markdown",
   "id": "d07a1a40-ad7e-4664-b917-b753e13cac29",
   "metadata": {},
   "source": [
    "Initial EDA shows a promising pattern, further testing is needed."
   ]
  },
  {
   "cell_type": "markdown",
   "id": "360b756c-a74e-4969-a3d0-7b20f36b5785",
   "metadata": {},
   "source": [
    "## Final Model"
   ]
  },
  {
   "cell_type": "code",
   "execution_count": null,
   "id": "5e6d1376-f132-4292-9d5e-b06287a58b72",
   "metadata": {},
   "outputs": [],
   "source": [
    "airbnb_final = airbnb[['bedrooms', 'accommodates', 'beds', 'bathrooms_text', 'room_type', 'price']]"
   ]
  },
  {
   "cell_type": "code",
   "execution_count": null,
   "id": "261d27b0-cc0f-44a8-a740-233fde94629f",
   "metadata": {},
   "outputs": [],
   "source": [
    "# Converting all orginal data to fit Linear Regression\n",
    "airbnb_final = airbnb_final.fillna(0)\n",
    "airbnb_final['bathrooms_text'] = airbnb_final['bathrooms_text'].str.extract(r'(\\d+\\.?\\d?)').astype(float)\n",
    "airbnb_final = pd.get_dummies(columns = ['room_type'], data = airbnb_final, drop_first=True)\n",
    "airbnb_final = airbnb_final[(airbnb_final['bathrooms'] < 15) & (airbnb['price'] < 25000) & (airbnb1['bedrooms'] < 20) & (airbnb1['beds'] < 30)]"
   ]
  },
  {
   "cell_type": "code",
   "execution_count": null,
   "id": "7c4f917b-b6d7-4fb0-8322-8dda35e753b5",
   "metadata": {},
   "outputs": [],
   "source": [
    "X = airbnb_final.drop(columns='price')\n",
    "y = airbnb_final['price']"
   ]
  },
  {
   "cell_type": "code",
   "execution_count": null,
   "id": "21848857-6cba-4246-8e6e-6022cd87c665",
   "metadata": {},
   "outputs": [],
   "source": [
    "X_train, X_test, y_train, y_test = train_test_split(X, y, random_state = 42)\n",
    "\n",
    "lr_final = LinearRegression()\n",
    "lr_final.fit(X_train, y_train)\n",
    "\n",
    "print(f'Train Score: {lr_final.score(X_train, y_train)}')\n",
    "print(f'Test Score: {lr_final.score(X_test, y_test)}')"
   ]
  },
  {
   "cell_type": "markdown",
   "id": "f0a4e566-df59-4c07-a347-5c5f0aea88bc",
   "metadata": {},
   "source": [
    "Using only a Linear Regression Model the highest r2 score achieved was 0.25 for the train and test set, meaning only 25% of the variability in price for LA listings in the quarter of June 2022 can be explained by the model. The next notebook uses more advanced models."
   ]
  }
 ],
 "metadata": {
  "kernelspec": {
   "display_name": "Python 3 (ipykernel)",
   "language": "python",
   "name": "python3"
  },
  "language_info": {
   "codemirror_mode": {
    "name": "ipython",
    "version": 3
   },
   "file_extension": ".py",
   "mimetype": "text/x-python",
   "name": "python",
   "nbconvert_exporter": "python",
   "pygments_lexer": "ipython3",
   "version": "3.9.13"
  }
 },
 "nbformat": 4,
 "nbformat_minor": 5
}
