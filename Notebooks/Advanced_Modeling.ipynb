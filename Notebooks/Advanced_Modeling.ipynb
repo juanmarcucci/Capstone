{
 "cells": [
  {
   "cell_type": "markdown",
   "id": "fcedc8e2-ddce-495e-8e02-15b6062fd8d4",
   "metadata": {},
   "source": [
    "# Advanced Models"
   ]
  },
  {
   "cell_type": "code",
   "execution_count": null,
   "id": "25592b9e-5047-4308-a6f8-261b69ed2119",
   "metadata": {},
   "outputs": [],
   "source": []
  }
 ],
 "metadata": {
  "kernelspec": {
   "display_name": "Python 3 (ipykernel)",
   "language": "python",
   "name": "python3"
  },
  "language_info": {
   "codemirror_mode": {
    "name": "ipython",
    "version": 3
   },
   "file_extension": ".py",
   "mimetype": "text/x-python",
   "name": "python",
   "nbconvert_exporter": "python",
   "pygments_lexer": "ipython3",
   "version": "3.9.13"
  }
 },
 "nbformat": 4,
 "nbformat_minor": 5
}
